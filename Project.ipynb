{
 "cells": [
  {
   "cell_type": "code",
   "execution_count": 3,
   "id": "19c6e709",
   "metadata": {},
   "outputs": [
    {
     "data": {
      "text/plain": [
       "0.2"
      ]
     },
     "execution_count": 3,
     "metadata": {},
     "output_type": "execute_result"
    }
   ],
   "source": [
    "# 1A\n",
    "400/2000"
   ]
  },
  {
   "cell_type": "code",
   "execution_count": 4,
   "id": "1d9eaae9",
   "metadata": {},
   "outputs": [
    {
     "data": {
      "text/plain": [
       "0.8"
      ]
     },
     "execution_count": 4,
     "metadata": {},
     "output_type": "execute_result"
    }
   ],
   "source": [
    "# 1B \n",
    "400/500"
   ]
  },
  {
   "cell_type": "code",
   "execution_count": 10,
   "id": "1e8f2315",
   "metadata": {},
   "outputs": [
    {
     "name": "stdout",
     "output_type": "stream",
     "text": [
      "[5.98736939e-01 3.15124705e-01 7.46347985e-02 1.04750594e-02\n",
      " 9.64808106e-04 6.09352488e-05 2.67259863e-06 8.03789063e-08\n",
      " 1.58642578e-09 1.85546875e-11 9.76562500e-14]\n"
     ]
    }
   ],
   "source": [
    "# 2nd question\n",
    "import numpy as np\n",
    "import pandas as ps\n",
    "import scipy.stats as stats\n",
    "\n",
    "p = 0.05\n",
    "n = 10\n",
    "k = np.arange(0,11)\n",
    "data = stats.binom.pmf(0,n,p)\n",
    "print(data)"
   ]
  },
  {
   "cell_type": "code",
   "execution_count": 11,
   "id": "13ea12a2",
   "metadata": {},
   "outputs": [
    {
     "data": {
      "text/plain": [
       "0.5987369392383789"
      ]
     },
     "execution_count": 11,
     "metadata": {},
     "output_type": "execute_result"
    }
   ],
   "source": [
    "# 2.A \n",
    "data = stats.binom.pmf(0,n,p)\n",
    "data"
   ]
  },
  {
   "cell_type": "code",
   "execution_count": 12,
   "id": "50f6946c",
   "metadata": {},
   "outputs": [
    {
     "data": {
      "text/plain": [
       "0.31512470486230504"
      ]
     },
     "execution_count": 12,
     "metadata": {},
     "output_type": "execute_result"
    }
   ],
   "source": [
    "#2.B\n",
    "stats.binom.pmf(1,n,p)"
   ]
  },
  {
   "cell_type": "code",
   "execution_count": 17,
   "id": "b9915fba",
   "metadata": {},
   "outputs": [
    {
     "data": {
      "text/plain": [
       "0.9884964426207031"
      ]
     },
     "execution_count": 17,
     "metadata": {},
     "output_type": "execute_result"
    }
   ],
   "source": [
    "#2.C\n",
    "k = np.arange(0,3)\n",
    "stats.binom.cdf(2,n,p)"
   ]
  },
  {
   "cell_type": "code",
   "execution_count": 19,
   "id": "b3cffedc",
   "metadata": {},
   "outputs": [
    {
     "data": {
      "text/plain": [
       "0.01150355737929687"
      ]
     },
     "execution_count": 19,
     "metadata": {},
     "output_type": "execute_result"
    }
   ],
   "source": [
    "#2.D\n",
    "1 - stats.binom.cdf(2,n,p)"
   ]
  },
  {
   "cell_type": "code",
   "execution_count": 22,
   "id": "75774e93",
   "metadata": {},
   "outputs": [
    {
     "data": {
      "text/plain": [
       "0.950212931632136"
      ]
     },
     "execution_count": 22,
     "metadata": {},
     "output_type": "execute_result"
    }
   ],
   "source": [
    "#3.A\n",
    "lam = 3\n",
    "zero = stats.poisson.pmf(0,3)\n",
    "1-zero"
   ]
  },
  {
   "cell_type": "code",
   "execution_count": 29,
   "id": "40e75c4e",
   "metadata": {},
   "outputs": [
    {
     "data": {
      "text/plain": [
       "0.6161149710523164"
      ]
     },
     "execution_count": 29,
     "metadata": {},
     "output_type": "execute_result"
    }
   ],
   "source": [
    "#3.B\n",
    "stats.poisson.pmf(2,3)+stats.poisson.pmf(3,3)+stats.poisson.pmf(4,3)\n",
    "#OR\n",
    "stats.poisson.cdf(4,3) - stats.poisson.cdf(1,3)"
   ]
  },
  {
   "cell_type": "code",
   "execution_count": 33,
   "id": "c444be36",
   "metadata": {},
   "outputs": [
    {
     "data": {
      "image/png": "[encoded data removed]",
      "text/plain": [
       "<Figure size 432x288 with 1 Axes>"
      ]
     },
     "metadata": {
      "needs_background": "light"
     },
     "output_type": "display_data"
    }
   ],
   "source": [
    "import matplotlib.pyplot as plt\n",
    "n = np.arange(0,10)\n",
    "poission = stats.poisson.pmf(n,3)\n",
    "plt.plot(n,poission, 'o-')\n",
    "plt.title('Poission')\n",
    "plt.xlabel('number of cars sold per week.')\n",
    "plt.ylabel('cumulative probability of cars sold per-week')\n",
    "plt.show()"
   ]
  },
  {
   "cell_type": "code",
   "execution_count": 34,
   "id": "5ee6f934",
   "metadata": {},
   "outputs": [],
   "source": [
    "#4\n",
    "p = 0.868\n",
    "n=3\n"
   ]
  },
  {
   "cell_type": "code",
   "execution_count": 35,
   "id": "fc9a3863",
   "metadata": {},
   "outputs": [
    {
     "data": {
      "text/plain": [
       "0.653972032"
      ]
     },
     "execution_count": 35,
     "metadata": {},
     "output_type": "execute_result"
    }
   ],
   "source": [
    "#4.A\n",
    "k=3\n",
    "stats.binom.pmf(k,n,p)"
   ]
  },
  {
   "cell_type": "code",
   "execution_count": 37,
   "id": "0cbf9a19",
   "metadata": {},
   "outputs": [
    {
     "data": {
      "text/plain": [
       "0.002299968"
      ]
     },
     "execution_count": 37,
     "metadata": {},
     "output_type": "execute_result"
    }
   ],
   "source": [
    "#4.B\n",
    "k = 0\n",
    "stats.binom.pmf(0,n,p)"
   ]
  },
  {
   "cell_type": "code",
   "execution_count": 39,
   "id": "25d5173b",
   "metadata": {},
   "outputs": [
    {
     "data": {
      "text/plain": [
       "0.952327936"
      ]
     },
     "execution_count": 39,
     "metadata": {},
     "output_type": "execute_result"
    }
   ],
   "source": [
    "#4.C \n",
    "stats.binom.cdf(3,n,p) - stats.binom.cdf(1,n,p)\n",
    "#OR\n",
    "stats.binom.pmf(2,n,p) + stats.binom.pmf(3,n,p)"
   ]
  },
  {
   "cell_type": "code",
   "execution_count": 40,
   "id": "3fd1e8fa",
   "metadata": {},
   "outputs": [
    {
     "data": {
      "text/plain": [
       "0.9523279359999999"
      ]
     },
     "execution_count": 40,
     "metadata": {},
     "output_type": "execute_result"
    }
   ],
   "source": []
  },
  {
   "cell_type": "code",
   "execution_count": null,
   "id": "1f8530af",
   "metadata": {},
   "outputs": [],
   "source": []
  }
 ],
 "metadata": {
  "kernelspec": {
   "display_name": "Python 3",
   "language": "python",
   "name": "python3"
  },
  "language_info": {
   "codemirror_mode": {
    "name": "ipython",
    "version": 3
   },
   "file_extension": ".py",
   "mimetype": "text/x-python",
   "name": "python",
   "nbconvert_exporter": "python",
   "pygments_lexer": "ipython3",
   "version": "3.8.8"
  }
 },
 "nbformat": 4,
 "nbformat_minor": 5
}
