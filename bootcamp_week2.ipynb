{
 "cells": [
  {
   "cell_type": "code",
   "execution_count": 1,
   "id": "ded1c71b",
   "metadata": {},
   "outputs": [
    {
     "name": "stdout",
     "output_type": "stream",
     "text": [
      "[1, 'abc', 2, 3, 5]\n"
     ]
    }
   ],
   "source": [
    "list1 = [1, 'abc', 2, 3, 1+4] \n",
    "print(list1)"
   ]
  },
  {
   "cell_type": "code",
   "execution_count": 3,
   "id": "30045209",
   "metadata": {},
   "outputs": [
    {
     "data": {
      "text/plain": [
       "[1, 'abc', 2, 3, 5, 10, 10]"
      ]
     },
     "execution_count": 3,
     "metadata": {},
     "output_type": "execute_result"
    }
   ],
   "source": [
    "list1.append(10)\n",
    "list1"
   ]
  },
  {
   "cell_type": "code",
   "execution_count": 4,
   "id": "69231fa5",
   "metadata": {},
   "outputs": [
    {
     "data": {
      "text/plain": [
       "[1, 'abc', 2, 3, 5, 10, 10, 'new', 'items']"
      ]
     },
     "execution_count": 4,
     "metadata": {},
     "output_type": "execute_result"
    }
   ],
   "source": [
    "list1.extend(['new','items'])\n",
    "list1"
   ]
  },
  {
   "cell_type": "code",
   "execution_count": 5,
   "id": "82727299",
   "metadata": {},
   "outputs": [
    {
     "data": {
      "text/plain": [
       "'items'"
      ]
     },
     "execution_count": 5,
     "metadata": {},
     "output_type": "execute_result"
    }
   ],
   "source": [
    "list1.pop()"
   ]
  },
  {
   "cell_type": "code",
   "execution_count": 9,
   "id": "b6c435f6",
   "metadata": {},
   "outputs": [],
   "source": [
    "#insert at specific index\n",
    "list1.insert(8,9)"
   ]
  },
  {
   "cell_type": "code",
   "execution_count": 7,
   "id": "4bfe0b12",
   "metadata": {},
   "outputs": [
    {
     "data": {
      "text/plain": [
       "[1, 'abc', 2, 3, 5, 10, 10, 'new', 9]"
      ]
     },
     "execution_count": 7,
     "metadata": {},
     "output_type": "execute_result"
    }
   ],
   "source": [
    "list1"
   ]
  },
  {
   "cell_type": "code",
   "execution_count": 8,
   "id": "c18d9407",
   "metadata": {},
   "outputs": [
    {
     "data": {
      "text/plain": [
       "2"
      ]
     },
     "execution_count": 8,
     "metadata": {},
     "output_type": "execute_result"
    }
   ],
   "source": [
    "list1.count(10)"
   ]
  },
  {
   "cell_type": "code",
   "execution_count": 11,
   "id": "c68b608f",
   "metadata": {},
   "outputs": [
    {
     "name": "stdout",
     "output_type": "stream",
     "text": [
      "1\n",
      "abc\n",
      "2\n",
      "3\n",
      "5\n",
      "10\n",
      "10\n",
      "new\n",
      "9\n",
      "9\n"
     ]
    }
   ],
   "source": [
    "for x in range(len(list1)):\n",
    "    print(list1[x])"
   ]
  },
  {
   "cell_type": "code",
   "execution_count": 12,
   "id": "787ec24f",
   "metadata": {},
   "outputs": [
    {
     "name": "stdout",
     "output_type": "stream",
     "text": [
      "good\n",
      "evening\n"
     ]
    }
   ],
   "source": [
    "#list unpacking\n",
    "list2 = [\"good\", \"evening\"]\n",
    "ele1,ele2 = list2\n",
    "print(ele1)\n",
    "print(ele2)"
   ]
  },
  {
   "cell_type": "code",
   "execution_count": 20,
   "id": "69e7b67f",
   "metadata": {},
   "outputs": [
    {
     "name": "stdout",
     "output_type": "stream",
     "text": [
      "python bootcamp\n",
      "<class 'tuple'>\n"
     ]
    }
   ],
   "source": [
    "#tuple\n",
    "tuple1 = ('python','bootcamp')\n",
    "tup1,tup2 = tuple1\n",
    "print(tup1, tup2)\n",
    "print(type(tuple1))"
   ]
  },
  {
   "cell_type": "code",
   "execution_count": 28,
   "id": "e42902c9",
   "metadata": {},
   "outputs": [
    {
     "data": {
      "text/plain": [
       "0.0057729899999685585"
      ]
     },
     "execution_count": 28,
     "metadata": {},
     "output_type": "execute_result"
    }
   ],
   "source": [
    "import timeit\n",
    "timeit.timeit('num_tuple=(1,2,3)',number=100000)\n",
    "timeit.timeit('num_list=[1,2,3]',number=100000)"
   ]
  },
  {
   "cell_type": "code",
   "execution_count": 7,
   "id": "d89f81f2",
   "metadata": {},
   "outputs": [
    {
     "data": {
      "text/plain": [
       "{'name': 'Ranjitha', 'gender': 'female', 'age': 30}"
      ]
     },
     "execution_count": 7,
     "metadata": {},
     "output_type": "execute_result"
    }
   ],
   "source": [
    "dict1 = {'name':'Ranjitha', 'gender':\"female\", 'age': 30}\n",
    "dict1"
   ]
  },
  {
   "cell_type": "code",
   "execution_count": 32,
   "id": "5b974cd3",
   "metadata": {},
   "outputs": [
    {
     "name": "stdout",
     "output_type": "stream",
     "text": [
      "0 name Ranjitha\n",
      "1 gender female\n",
      "2 age 30\n"
     ]
    }
   ],
   "source": [
    "for key,value in enumerate(dict1):\n",
    "    print(key, value, dict1[value])"
   ]
  },
  {
   "cell_type": "code",
   "execution_count": 8,
   "id": "37b19a86",
   "metadata": {},
   "outputs": [
    {
     "data": {
      "text/plain": [
       "'Ranjitha'"
      ]
     },
     "execution_count": 8,
     "metadata": {},
     "output_type": "execute_result"
    }
   ],
   "source": [
    "dict1['name']"
   ]
  },
  {
   "cell_type": "code",
   "execution_count": 37,
   "id": "d7a4f99e",
   "metadata": {},
   "outputs": [
    {
     "data": {
      "text/plain": [
       "dict_values(['Ranjitha', 'female', 30])"
      ]
     },
     "execution_count": 37,
     "metadata": {},
     "output_type": "execute_result"
    }
   ],
   "source": [
    "dict1.values()"
   ]
  },
  {
   "cell_type": "code",
   "execution_count": 42,
   "id": "fb776617",
   "metadata": {},
   "outputs": [
    {
     "name": "stdout",
     "output_type": "stream",
     "text": [
      "name Ranjitha\n",
      "gender female\n",
      "age 30\n"
     ]
    }
   ],
   "source": [
    "for key,ele in dict1.items():\n",
    "    print(key,ele)"
   ]
  },
  {
   "cell_type": "code",
   "execution_count": 43,
   "id": "42b82d95",
   "metadata": {},
   "outputs": [
    {
     "data": {
      "text/plain": [
       "'female'"
      ]
     },
     "execution_count": 43,
     "metadata": {},
     "output_type": "execute_result"
    }
   ],
   "source": [
    "dict1['gender']"
   ]
  },
  {
   "cell_type": "code",
   "execution_count": 6,
   "id": "067fa4af",
   "metadata": {},
   "outputs": [
    {
     "name": "stdout",
     "output_type": "stream",
     "text": [
      "result : [2, 4]\n"
     ]
    }
   ],
   "source": [
    "#list comprehension \n",
    "list_1 = [1,2,3,4,5]\n",
    "comprehension_list = [ele for ele in list_1 if ele % 2 == 0]\n",
    "\n",
    "print(\"result :\", comprehension_list)"
   ]
  },
  {
   "cell_type": "code",
   "execution_count": 45,
   "id": "0ddd456b",
   "metadata": {},
   "outputs": [],
   "source": [
    "#dictionary comprehension\n",
    "dict_1 = {'name':'Ranjitha'}"
   ]
  },
  {
   "cell_type": "code",
   "execution_count": 46,
   "id": "6e8e0b7a",
   "metadata": {},
   "outputs": [
    {
     "name": "stdout",
     "output_type": "stream",
     "text": [
      "Inside outer if statement\n",
      "Hello everyone\n",
      "less than condition true\n",
      "Bye\n",
      "End statement\n"
     ]
    }
   ],
   "source": [
    "if 'Python' in ['Java', 'C++', 'Cloud', 'Python']:       \n",
    "    print('Inside outer if statement')     \n",
    "\n",
    "    if 10 > 20:                          \n",
    "        print('greater than condition true')       \n",
    "\n",
    "    print('Hello everyone')  \n",
    "\n",
    "    if 10 < 20:                           \n",
    "        print('less than condition true')       \n",
    "\n",
    "    print('Bye')      \n",
    "print('End statement')"
   ]
  },
  {
   "cell_type": "code",
   "execution_count": 47,
   "id": "58f4477b",
   "metadata": {},
   "outputs": [
    {
     "name": "stdout",
     "output_type": "stream",
     "text": [
      "Please enter number:5\n",
      "1\n",
      "3\n",
      "6\n",
      "10\n",
      "15\n",
      "sum is: 15\n"
     ]
    }
   ],
   "source": [
    "#input from user\n",
    "input_num = int(input(\"Please enter number:\"))\n",
    "sum = 0\n",
    "num = 1\n",
    "\n",
    "while num <= input_num:\n",
    "    sum = sum + num\n",
    "    num+=1   \n",
    "    print(sum)\n",
    "\n",
    "print(f\"sum is: {sum}\")"
   ]
  },
  {
   "cell_type": "code",
   "execution_count": 48,
   "id": "c9c4ef1c",
   "metadata": {},
   "outputs": [
    {
     "name": "stdout",
     "output_type": "stream",
     "text": [
      " R \n",
      " Python \n",
      " Scala \n",
      " Java \n",
      " C++ \n"
     ]
    }
   ],
   "source": [
    "languages = ['R', 'Python',  'Scala', 'Java', 'C++']\n",
    "\n",
    "for index in range(len(languages)):\n",
    "    print(f' {languages[index]} ')"
   ]
  },
  {
   "cell_type": "code",
   "execution_count": 49,
   "id": "0285f3da",
   "metadata": {},
   "outputs": [
    {
     "name": "stdout",
     "output_type": "stream",
     "text": [
      "Inside function\n"
     ]
    }
   ],
   "source": [
    "#Functions\n",
    "def user_defined():\n",
    "    print('Inside function')\n",
    "    \n",
    "user_defined()"
   ]
  },
  {
   "cell_type": "code",
   "execution_count": 51,
   "id": "6198eb96",
   "metadata": {},
   "outputs": [
    {
     "name": "stdout",
     "output_type": "stream",
     "text": [
      "Number is less than 5\n"
     ]
    }
   ],
   "source": [
    "def user_defined_arg(num):\n",
    "    if(num > 5):\n",
    "        print('Number is greater than 5')\n",
    "    else:\n",
    "        print('Number is less than 5')\n",
    "        \n",
    "user_defined_arg(1)"
   ]
  },
  {
   "cell_type": "code",
   "execution_count": 53,
   "id": "20680d4c",
   "metadata": {},
   "outputs": [
    {
     "data": {
      "text/plain": [
       "'welsome Ranjitha'"
      ]
     },
     "execution_count": 53,
     "metadata": {},
     "output_type": "execute_result"
    }
   ],
   "source": [
    "name = 'Ranjitha'\n",
    "f'welsome {name}'"
   ]
  },
  {
   "cell_type": "code",
   "execution_count": 56,
   "id": "65af707d",
   "metadata": {},
   "outputs": [
    {
     "name": "stdout",
     "output_type": "stream",
     "text": [
      "30\n",
      "outseide 10\n"
     ]
    }
   ],
   "source": [
    "gol_var = 10\n",
    "def my_fun():\n",
    "    gol_var = 30\n",
    "    print(gol_var)\n",
    "my_fun()\n",
    "print(f'outseide {gol_var}')"
   ]
  },
  {
   "cell_type": "code",
   "execution_count": 10,
   "id": "0fe3df47",
   "metadata": {},
   "outputs": [
    {
     "name": "stdout",
     "output_type": "stream",
     "text": [
      "{1, 2, 4, 5}\n",
      "{8, 3, 4, 5}\n"
     ]
    }
   ],
   "source": [
    "#SETS\n",
    "set1 = {1, 2, 4, 5}\n",
    "set2 = {3, 4, 5, 8}\n",
    "print(set1)\n",
    "print(set2)"
   ]
  },
  {
   "cell_type": "code",
   "execution_count": 12,
   "id": "72b2a74d",
   "metadata": {},
   "outputs": [
    {
     "name": "stdout",
     "output_type": "stream",
     "text": [
      "{1, 2, 4, 5, 6}\n",
      "{3, 4, 5, 8, 9}\n"
     ]
    }
   ],
   "source": [
    "set1.add(6)\n",
    "set2.add(9)\n",
    "print(set1)\n",
    "print(set2)"
   ]
  },
  {
   "cell_type": "code",
   "execution_count": 13,
   "id": "123c9a3c",
   "metadata": {},
   "outputs": [
    {
     "data": {
      "text/plain": [
       "{1, 2, 3, 4, 5, 6, 8, 9}"
      ]
     },
     "execution_count": 13,
     "metadata": {},
     "output_type": "execute_result"
    }
   ],
   "source": [
    "set1.union(set2)"
   ]
  },
  {
   "cell_type": "code",
   "execution_count": 14,
   "id": "0d9b0d30",
   "metadata": {},
   "outputs": [
    {
     "data": {
      "text/plain": [
       "{4, 5}"
      ]
     },
     "execution_count": 14,
     "metadata": {},
     "output_type": "execute_result"
    }
   ],
   "source": [
    "set1.intersection(set2)"
   ]
  },
  {
   "cell_type": "code",
   "execution_count": 16,
   "id": "6c157802",
   "metadata": {},
   "outputs": [
    {
     "data": {
      "text/plain": [
       "[1, 2, 3, 4, 5, 6, 7, 8, 9, 10]"
      ]
     },
     "execution_count": 16,
     "metadata": {},
     "output_type": "execute_result"
    }
   ],
   "source": [
    "#dictionary\n",
    "dict2 = {\"name\": \"Dumsi\",\"gender\":\"Female\", \"age\": 30}\n",
    "comprehension_list = [ele for ele in list_1 if ele % 2 == 0]\n",
    "a = 4\n",
    "b = 9\n",
    "count_list = [1,2,3,a,5,6,7,8,b,10]\n",
    "count_list"
   ]
  },
  {
   "cell_type": "code",
   "execution_count": 25,
   "id": "f1e0c6fb",
   "metadata": {},
   "outputs": [
    {
     "data": {
      "text/plain": [
       "{'name': 'Dumsi'}"
      ]
     },
     "execution_count": 25,
     "metadata": {},
     "output_type": "execute_result"
    }
   ],
   "source": [
    "#Dictionary comprehension\n",
    "compr_dist = {key:value for (key,value) in dict2.items() if value == \"Dumsi\"}\n",
    "compr_dist"
   ]
  },
  {
   "cell_type": "code",
   "execution_count": null,
   "id": "5a1a4803",
   "metadata": {},
   "outputs": [],
   "source": []
  }
 ],
 "metadata": {
  "kernelspec": {
   "display_name": "Python 3",
   "language": "python",
   "name": "python3"
  },
  "language_info": {
   "codemirror_mode": {
    "name": "ipython",
    "version": 3
   },
   "file_extension": ".py",
   "mimetype": "text/x-python",
   "name": "python",
   "nbconvert_exporter": "python",
   "pygments_lexer": "ipython3",
   "version": "3.8.8"
  }
 },
 "nbformat": 4,
 "nbformat_minor": 5
}
